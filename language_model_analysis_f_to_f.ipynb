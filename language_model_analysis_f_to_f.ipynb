{
  "cells": [
    {
      "cell_type": "markdown",
      "metadata": {
        "id": "7EL3IiY9OIMw"
      },
      "source": [
        "## Analysis of Language Model Outputs (Financial Prompts to financial test)\n",
        "\n",
        "This notebook contains the analysis of outputs from GPT-3.5 (OpenAI) and PaLM2 (Bard) based on the provided dataset with financial news prompts tested on the same financial news. this notebook indicates how well the current LLMs are able to adapt to the same data provided in just few shot examples setting."
      ],
      "id": "7EL3IiY9OIMw"
    },
    {
      "cell_type": "code",
      "metadata": {
        "id": "TPiUZc_jOIMy"
      },
      "source": [
        "import pandas as pd\n",
        "from sklearn.metrics import accuracy_score, f1_score, precision_score, recall_score\n",
        "import matplotlib.pyplot as plt\n",
        "import numpy as np\n",
        "import seaborn as sns"
      ],
      "outputs": [],
      "id": "TPiUZc_jOIMy",
      "execution_count": 2
    },
    {
      "cell_type": "code",
      "metadata": {
        "id": "5S34l7KxOIM0",
        "colab": {
          "base_uri": "https://localhost:8080/",
          "height": 206
        },
        "outputId": "9b0c1319-1f58-411a-88dd-378dd40f7f30"
      },
      "source": [
        "import pandas as pd\n",
        "\n",
        "# Load the Excel file\n",
        "data = pd.read_excel('/content/Predicted promptsf_to_f.xlsx')\n",
        "\n",
        "# Display the first few rows of the dataset\n",
        "data.head()\n"
      ],
      "outputs": [
        {
          "output_type": "execute_result",
          "data": {
            "text/plain": [
              "                                              Prompt Original Label  \\\n",
              "0  Your task is to do the classification. I will ...      no impact   \n",
              "1  Your task is to do the classification. I will ...       positive   \n",
              "2  Your task is to do the classification. I will ...       negative   \n",
              "3  Your task is to do the classification. I will ...      no impact   \n",
              "4  Your task is to do the classification. I will ...       positive   \n",
              "\n",
              "  Predicted label GPT3.5 (OpenAI)  Context Learning (OpenAI)  \\\n",
              "0                        positive                          0   \n",
              "1                       no impact                          0   \n",
              "2                        negative                          1   \n",
              "3                        positive                          0   \n",
              "4                        positive                          1   \n",
              "\n",
              "  Predicted label PaLM 2 (Bard)  Context Learning (Bard)  \n",
              "0                     no impact                        1  \n",
              "1                      positive                        1  \n",
              "2                      negative                        1  \n",
              "3                      positive                        1  \n",
              "4                      positive                        1  "
            ],
            "text/html": [
              "\n",
              "\n",
              "  <div id=\"df-5f4cc07a-e74b-491a-bcda-c930e5d277f4\">\n",
              "    <div class=\"colab-df-container\">\n",
              "      <div>\n",
              "<style scoped>\n",
              "    .dataframe tbody tr th:only-of-type {\n",
              "        vertical-align: middle;\n",
              "    }\n",
              "\n",
              "    .dataframe tbody tr th {\n",
              "        vertical-align: top;\n",
              "    }\n",
              "\n",
              "    .dataframe thead th {\n",
              "        text-align: right;\n",
              "    }\n",
              "</style>\n",
              "<table border=\"1\" class=\"dataframe\">\n",
              "  <thead>\n",
              "    <tr style=\"text-align: right;\">\n",
              "      <th></th>\n",
              "      <th>Prompt</th>\n",
              "      <th>Original Label</th>\n",
              "      <th>Predicted label GPT3.5 (OpenAI)</th>\n",
              "      <th>Context Learning (OpenAI)</th>\n",
              "      <th>Predicted label PaLM 2 (Bard)</th>\n",
              "      <th>Context Learning (Bard)</th>\n",
              "    </tr>\n",
              "  </thead>\n",
              "  <tbody>\n",
              "    <tr>\n",
              "      <th>0</th>\n",
              "      <td>Your task is to do the classification. I will ...</td>\n",
              "      <td>no impact</td>\n",
              "      <td>positive</td>\n",
              "      <td>0</td>\n",
              "      <td>no impact</td>\n",
              "      <td>1</td>\n",
              "    </tr>\n",
              "    <tr>\n",
              "      <th>1</th>\n",
              "      <td>Your task is to do the classification. I will ...</td>\n",
              "      <td>positive</td>\n",
              "      <td>no impact</td>\n",
              "      <td>0</td>\n",
              "      <td>positive</td>\n",
              "      <td>1</td>\n",
              "    </tr>\n",
              "    <tr>\n",
              "      <th>2</th>\n",
              "      <td>Your task is to do the classification. I will ...</td>\n",
              "      <td>negative</td>\n",
              "      <td>negative</td>\n",
              "      <td>1</td>\n",
              "      <td>negative</td>\n",
              "      <td>1</td>\n",
              "    </tr>\n",
              "    <tr>\n",
              "      <th>3</th>\n",
              "      <td>Your task is to do the classification. I will ...</td>\n",
              "      <td>no impact</td>\n",
              "      <td>positive</td>\n",
              "      <td>0</td>\n",
              "      <td>positive</td>\n",
              "      <td>1</td>\n",
              "    </tr>\n",
              "    <tr>\n",
              "      <th>4</th>\n",
              "      <td>Your task is to do the classification. I will ...</td>\n",
              "      <td>positive</td>\n",
              "      <td>positive</td>\n",
              "      <td>1</td>\n",
              "      <td>positive</td>\n",
              "      <td>1</td>\n",
              "    </tr>\n",
              "  </tbody>\n",
              "</table>\n",
              "</div>\n",
              "      <button class=\"colab-df-convert\" onclick=\"convertToInteractive('df-5f4cc07a-e74b-491a-bcda-c930e5d277f4')\"\n",
              "              title=\"Convert this dataframe to an interactive table.\"\n",
              "              style=\"display:none;\">\n",
              "\n",
              "  <svg xmlns=\"http://www.w3.org/2000/svg\" height=\"24px\"viewBox=\"0 0 24 24\"\n",
              "       width=\"24px\">\n",
              "    <path d=\"M0 0h24v24H0V0z\" fill=\"none\"/>\n",
              "    <path d=\"M18.56 5.44l.94 2.06.94-2.06 2.06-.94-2.06-.94-.94-2.06-.94 2.06-2.06.94zm-11 1L8.5 8.5l.94-2.06 2.06-.94-2.06-.94L8.5 2.5l-.94 2.06-2.06.94zm10 10l.94 2.06.94-2.06 2.06-.94-2.06-.94-.94-2.06-.94 2.06-2.06.94z\"/><path d=\"M17.41 7.96l-1.37-1.37c-.4-.4-.92-.59-1.43-.59-.52 0-1.04.2-1.43.59L10.3 9.45l-7.72 7.72c-.78.78-.78 2.05 0 2.83L4 21.41c.39.39.9.59 1.41.59.51 0 1.02-.2 1.41-.59l7.78-7.78 2.81-2.81c.8-.78.8-2.07 0-2.86zM5.41 20L4 18.59l7.72-7.72 1.47 1.35L5.41 20z\"/>\n",
              "  </svg>\n",
              "      </button>\n",
              "\n",
              "\n",
              "\n",
              "    <div id=\"df-b73bfc66-941e-4d2c-b6a5-138284bf2ca9\">\n",
              "      <button class=\"colab-df-quickchart\" onclick=\"quickchart('df-b73bfc66-941e-4d2c-b6a5-138284bf2ca9')\"\n",
              "              title=\"Suggest charts.\"\n",
              "              style=\"display:none;\">\n",
              "\n",
              "<svg xmlns=\"http://www.w3.org/2000/svg\" height=\"24px\"viewBox=\"0 0 24 24\"\n",
              "     width=\"24px\">\n",
              "    <g>\n",
              "        <path d=\"M19 3H5c-1.1 0-2 .9-2 2v14c0 1.1.9 2 2 2h14c1.1 0 2-.9 2-2V5c0-1.1-.9-2-2-2zM9 17H7v-7h2v7zm4 0h-2V7h2v10zm4 0h-2v-4h2v4z\"/>\n",
              "    </g>\n",
              "</svg>\n",
              "      </button>\n",
              "    </div>\n",
              "\n",
              "<style>\n",
              "  .colab-df-quickchart {\n",
              "    background-color: #E8F0FE;\n",
              "    border: none;\n",
              "    border-radius: 50%;\n",
              "    cursor: pointer;\n",
              "    display: none;\n",
              "    fill: #1967D2;\n",
              "    height: 32px;\n",
              "    padding: 0 0 0 0;\n",
              "    width: 32px;\n",
              "  }\n",
              "\n",
              "  .colab-df-quickchart:hover {\n",
              "    background-color: #E2EBFA;\n",
              "    box-shadow: 0px 1px 2px rgba(60, 64, 67, 0.3), 0px 1px 3px 1px rgba(60, 64, 67, 0.15);\n",
              "    fill: #174EA6;\n",
              "  }\n",
              "\n",
              "  [theme=dark] .colab-df-quickchart {\n",
              "    background-color: #3B4455;\n",
              "    fill: #D2E3FC;\n",
              "  }\n",
              "\n",
              "  [theme=dark] .colab-df-quickchart:hover {\n",
              "    background-color: #434B5C;\n",
              "    box-shadow: 0px 1px 3px 1px rgba(0, 0, 0, 0.15);\n",
              "    filter: drop-shadow(0px 1px 2px rgba(0, 0, 0, 0.3));\n",
              "    fill: #FFFFFF;\n",
              "  }\n",
              "</style>\n",
              "\n",
              "    <script>\n",
              "      async function quickchart(key) {\n",
              "        const containerElement = document.querySelector('#' + key);\n",
              "        const charts = await google.colab.kernel.invokeFunction(\n",
              "            'suggestCharts', [key], {});\n",
              "      }\n",
              "    </script>\n",
              "\n",
              "      <script>\n",
              "\n",
              "function displayQuickchartButton(domScope) {\n",
              "  let quickchartButtonEl =\n",
              "    domScope.querySelector('#df-b73bfc66-941e-4d2c-b6a5-138284bf2ca9 button.colab-df-quickchart');\n",
              "  quickchartButtonEl.style.display =\n",
              "    google.colab.kernel.accessAllowed ? 'block' : 'none';\n",
              "}\n",
              "\n",
              "        displayQuickchartButton(document);\n",
              "      </script>\n",
              "      <style>\n",
              "    .colab-df-container {\n",
              "      display:flex;\n",
              "      flex-wrap:wrap;\n",
              "      gap: 12px;\n",
              "    }\n",
              "\n",
              "    .colab-df-convert {\n",
              "      background-color: #E8F0FE;\n",
              "      border: none;\n",
              "      border-radius: 50%;\n",
              "      cursor: pointer;\n",
              "      display: none;\n",
              "      fill: #1967D2;\n",
              "      height: 32px;\n",
              "      padding: 0 0 0 0;\n",
              "      width: 32px;\n",
              "    }\n",
              "\n",
              "    .colab-df-convert:hover {\n",
              "      background-color: #E2EBFA;\n",
              "      box-shadow: 0px 1px 2px rgba(60, 64, 67, 0.3), 0px 1px 3px 1px rgba(60, 64, 67, 0.15);\n",
              "      fill: #174EA6;\n",
              "    }\n",
              "\n",
              "    [theme=dark] .colab-df-convert {\n",
              "      background-color: #3B4455;\n",
              "      fill: #D2E3FC;\n",
              "    }\n",
              "\n",
              "    [theme=dark] .colab-df-convert:hover {\n",
              "      background-color: #434B5C;\n",
              "      box-shadow: 0px 1px 3px 1px rgba(0, 0, 0, 0.15);\n",
              "      filter: drop-shadow(0px 1px 2px rgba(0, 0, 0, 0.3));\n",
              "      fill: #FFFFFF;\n",
              "    }\n",
              "  </style>\n",
              "\n",
              "      <script>\n",
              "        const buttonEl =\n",
              "          document.querySelector('#df-5f4cc07a-e74b-491a-bcda-c930e5d277f4 button.colab-df-convert');\n",
              "        buttonEl.style.display =\n",
              "          google.colab.kernel.accessAllowed ? 'block' : 'none';\n",
              "\n",
              "        async function convertToInteractive(key) {\n",
              "          const element = document.querySelector('#df-5f4cc07a-e74b-491a-bcda-c930e5d277f4');\n",
              "          const dataTable =\n",
              "            await google.colab.kernel.invokeFunction('convertToInteractive',\n",
              "                                                     [key], {});\n",
              "          if (!dataTable) return;\n",
              "\n",
              "          const docLinkHtml = 'Like what you see? Visit the ' +\n",
              "            '<a target=\"_blank\" href=https://colab.research.google.com/notebooks/data_table.ipynb>data table notebook</a>'\n",
              "            + ' to learn more about interactive tables.';\n",
              "          element.innerHTML = '';\n",
              "          dataTable['output_type'] = 'display_data';\n",
              "          await google.colab.output.renderOutput(dataTable, element);\n",
              "          const docLink = document.createElement('div');\n",
              "          docLink.innerHTML = docLinkHtml;\n",
              "          element.appendChild(docLink);\n",
              "        }\n",
              "      </script>\n",
              "    </div>\n",
              "  </div>\n"
            ]
          },
          "metadata": {},
          "execution_count": 1
        }
      ],
      "id": "5S34l7KxOIM0",
      "execution_count": 1
    },
    {
      "cell_type": "code",
      "source": [
        "from sklearn.metrics import accuracy_score, f1_score, precision_score, recall_score\n",
        "\n",
        "# Ground truth labels\n",
        "ground_truth = data[\"Original Label\"]\n",
        "\n",
        "# Predicted labels for GPT-3.5\n",
        "predicted_gpt = data[\"Predicted label GPT3.5 (OpenAI)\"]\n",
        "\n",
        "# Calculate metrics for GPT-3.5\n",
        "accuracy_gpt = accuracy_score(ground_truth, predicted_gpt)\n",
        "f1_gpt = f1_score(ground_truth, predicted_gpt, average='weighted')\n",
        "precision_gpt = precision_score(ground_truth, predicted_gpt, average='weighted')\n",
        "recall_gpt = recall_score(ground_truth, predicted_gpt, average='weighted')\n",
        "\n",
        "accuracy_gpt, f1_gpt, precision_gpt, recall_gpt\n"
      ],
      "metadata": {
        "id": "WCJ48hbDO_4p",
        "colab": {
          "base_uri": "https://localhost:8080/",
          "height": 0
        },
        "outputId": "4537bfcf-3f5c-44a5-b782-04651b3cfe92"
      },
      "id": "WCJ48hbDO_4p",
      "execution_count": 3,
      "outputs": [
        {
          "output_type": "stream",
          "name": "stderr",
          "text": [
            "/usr/local/lib/python3.10/dist-packages/sklearn/metrics/_classification.py:1344: UndefinedMetricWarning: Recall is ill-defined and being set to 0.0 in labels with no true samples. Use `zero_division` parameter to control this behavior.\n",
            "  _warn_prf(average, modifier, msg_start, len(result))\n"
          ]
        },
        {
          "output_type": "execute_result",
          "data": {
            "text/plain": [
              "(0.4, 0.40130536130536126, 0.6560401002506265, 0.4)"
            ]
          },
          "metadata": {},
          "execution_count": 3
        }
      ]
    },
    {
      "cell_type": "code",
      "source": [
        "# Predicted labels for PaLM2\n",
        "predicted_palm = data[\"Predicted label PaLM 2 (Bard)\"]\n",
        "\n",
        "# Calculate metrics for PaLM2\n",
        "accuracy_palm = accuracy_score(ground_truth, predicted_palm)\n",
        "f1_palm = f1_score(ground_truth, predicted_palm, average='weighted')\n",
        "precision_palm = precision_score(ground_truth, predicted_palm, average='weighted')\n",
        "recall_palm = recall_score(ground_truth, predicted_palm, average='weighted')\n",
        "\n",
        "accuracy_palm, f1_palm, precision_palm, recall_palm\n"
      ],
      "metadata": {
        "id": "0baQarvoPCWD",
        "colab": {
          "base_uri": "https://localhost:8080/",
          "height": 0
        },
        "outputId": "f5b9d429-02f3-40f4-f9bc-07723b82f70a"
      },
      "id": "0baQarvoPCWD",
      "execution_count": 4,
      "outputs": [
        {
          "output_type": "execute_result",
          "data": {
            "text/plain": [
              "(0.6, 0.5946153846153847, 0.7152000000000001, 0.6)"
            ]
          },
          "metadata": {},
          "execution_count": 4
        }
      ]
    },
    {
      "cell_type": "code",
      "source": [
        "import matplotlib.pyplot as plt\n",
        "import numpy as np\n",
        "\n",
        "# Metrics data\n",
        "labels = ['Accuracy', 'F1 Score', 'Precision', 'Recall']\n",
        "gpt_values = [accuracy_gpt, f1_gpt, precision_gpt, recall_gpt]\n",
        "palm_values = [accuracy_palm, f1_palm, precision_palm, recall_palm]\n",
        "\n",
        "# Bar width\n",
        "bar_width = 0.35\n",
        "index = np.arange(len(labels))\n",
        "\n",
        "# Create bar chart\n",
        "fig, ax = plt.subplots(figsize=(10, 6))\n",
        "bar1 = ax.bar(index, gpt_values, bar_width, label='GPT-3.5 (OpenAI)', color='b', alpha=0.7)\n",
        "bar2 = ax.bar(index + bar_width, palm_values, bar_width, label='PaLM2 (Bard)', color='r', alpha=0.7)\n",
        "\n",
        "# Label the chart\n",
        "ax.set_xlabel('Metrics')\n",
        "ax.set_ylabel('Values')\n",
        "ax.set_title('Comparison of Metrics between GPT-3.5 and PaLM2')\n",
        "ax.set_xticks(index + bar_width / 2)\n",
        "ax.set_xticklabels(labels)\n",
        "ax.legend()\n",
        "\n",
        "plt.tight_layout()\n",
        "plt.show()\n"
      ],
      "metadata": {
        "id": "QNPptPN6PE02",
        "colab": {
          "base_uri": "https://localhost:8080/",
          "height": 607
        },
        "outputId": "3e5c687f-fbc4-47b9-d74b-fa471ad6aaed"
      },
      "id": "QNPptPN6PE02",
      "execution_count": 5,
      "outputs": [
        {
          "output_type": "display_data",
          "data": {
            "text/plain": [
              "<Figure size 1000x600 with 1 Axes>"
            ],
            "image/png": "[encoded data removed]"
          },
          "metadata": {}
        }
      ]
    },
    {
      "cell_type": "code",
      "source": [
        "# Context Learning Analysis for GPT-3.5\n",
        "gpt_context_learning = data[\"Context Learning (OpenAI)\"].mean()\n",
        "\n",
        "# Context Learning Analysis for PaLM2\n",
        "palm_context_learning = data[\"Context Learning (Bard)\"].mean()\n",
        "\n",
        "gpt_context_learning, palm_context_learning\n"
      ],
      "metadata": {
        "id": "v3JiRq9KPLaJ",
        "colab": {
          "base_uri": "https://localhost:8080/",
          "height": 0
        },
        "outputId": "a89eeff0-bd74-455b-ff21-c5a9dc0d3782"
      },
      "id": "v3JiRq9KPLaJ",
      "execution_count": 6,
      "outputs": [
        {
          "output_type": "execute_result",
          "data": {
            "text/plain": [
              "(0.5, 0.7)"
            ]
          },
          "metadata": {},
          "execution_count": 6
        }
      ]
    },
    {
      "cell_type": "code",
      "source": [
        "# Misclassification Analysis for GPT-3.5\n",
        "gpt_misclassified = data[data[\"Original Label\"] != data[\"Predicted label GPT3.5 (OpenAI)\"]]\n",
        "gpt_misclassification_counts = gpt_misclassified[\"Predicted label GPT3.5 (OpenAI)\"].value_counts()\n",
        "\n",
        "# Misclassification Analysis for PaLM2\n",
        "palm_misclassified = data[data[\"Original Label\"] != data[\"Predicted label PaLM 2 (Bard)\"]]\n",
        "palm_misclassification_counts = palm_misclassified[\"Predicted label PaLM 2 (Bard)\"].value_counts()\n",
        "\n",
        "gpt_misclassification_counts, palm_misclassification_counts\n"
      ],
      "metadata": {
        "id": "OI3pVO97PNdF",
        "colab": {
          "base_uri": "https://localhost:8080/",
          "height": 0
        },
        "outputId": "a03264bb-b4ae-4b15-d806-d5f00a1004c6"
      },
      "id": "OI3pVO97PNdF",
      "execution_count": 7,
      "outputs": [
        {
          "output_type": "execute_result",
          "data": {
            "text/plain": [
              "(negative     15\n",
              " positive     13\n",
              " no impact     1\n",
              "  negative     1\n",
              " Name: Predicted label GPT3.5 (OpenAI), dtype: int64,\n",
              " positive     14\n",
              " negative      4\n",
              " no impact     2\n",
              " Name: Predicted label PaLM 2 (Bard), dtype: int64)"
            ]
          },
          "metadata": {},
          "execution_count": 7
        }
      ]
    },
    {
      "cell_type": "code",
      "source": [
        "from sklearn.metrics import confusion_matrix\n",
        "import seaborn as sns\n",
        "\n",
        "# Calculate confusion matrices\n",
        "confusion_gpt = confusion_matrix(ground_truth, predicted_gpt, labels=['positive', 'negative', 'no impact'])\n",
        "confusion_palm = confusion_matrix(ground_truth, predicted_palm, labels=['positive', 'negative', 'no impact'])\n",
        "\n",
        "# Plotting confusion matrix for GPT-3.5\n",
        "fig, ax = plt.subplots(1, 2, figsize=(15, 5))\n",
        "\n",
        "sns.heatmap(confusion_gpt, annot=True, fmt='d', cmap='Blues', ax=ax[0],\n",
        "            xticklabels=['positive', 'negative', 'no impact'],\n",
        "            yticklabels=['positive', 'negative', 'no impact'])\n",
        "ax[0].set_title('Confusion Matrix for GPT-3.5 (OpenAI)')\n",
        "ax[0].set_xlabel('Predicted Label')\n",
        "ax[0].set_ylabel('True Label')\n",
        "\n",
        "# Plotting confusion matrix for PaLM2\n",
        "sns.heatmap(confusion_palm, annot=True, fmt='d', cmap='Reds', ax=ax[1],\n",
        "            xticklabels=['positive', 'negative', 'no impact'],\n",
        "            yticklabels=['positive', 'negative', 'no impact'])\n",
        "ax[1].set_title('Confusion Matrix for PaLM2 (Bard)')\n",
        "ax[1].set_xlabel('Predicted Label')\n",
        "ax[1].set_ylabel('True Label')\n",
        "\n",
        "plt.tight_layout()\n",
        "plt.show()\n"
      ],
      "metadata": {
        "id": "15BzCJ9EPRpQ",
        "colab": {
          "base_uri": "https://localhost:8080/",
          "height": 501
        },
        "outputId": "50437fe7-1eee-4af5-c4a7-a162e4282108"
      },
      "id": "15BzCJ9EPRpQ",
      "execution_count": 8,
      "outputs": [
        {
          "output_type": "display_data",
          "data": {
            "text/plain": [
              "<Figure size 1500x500 with 4 Axes>"
            ],
            "image/png": "[encoded data removed]"
          },
          "metadata": {}
        }
      ]
    }
  ],
  "metadata": {
    "kernelspec": {
      "display_name": "Python 3",
      "language": "python",
      "name": "python3"
    },
    "language_info": {
      "codemirror_mode": {
        "name": "ipython",
        "version": 3
      },
      "file_extension": ".py",
      "mimetype": "text/x-python",
      "name": "python",
      "nbconvert_exporter": "python",
      "pygments_lexer": "ipython3",
      "version": "3.8.5"
    },
    "colab": {
      "provenance": []
    }
  },
  "nbformat": 4,
  "nbformat_minor": 5
}